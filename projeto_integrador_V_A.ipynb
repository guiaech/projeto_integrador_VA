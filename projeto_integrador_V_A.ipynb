{
  "nbformat": 4,
  "nbformat_minor": 0,
  "metadata": {
    "colab": {
      "provenance": [],
      "include_colab_link": true
    },
    "kernelspec": {
      "name": "python3",
      "display_name": "Python 3"
    },
    "language_info": {
      "name": "python"
    }
  },
  "cells": [
    {
      "cell_type": "markdown",
      "metadata": {
        "id": "view-in-github",
        "colab_type": "text"
      },
      "source": [
        "<a href=\"https://colab.research.google.com/github/guiaech/projeto_integrador_VA/blob/main/projeto_integrador_V_A.ipynb\" target=\"_parent\"><img src=\"https://colab.research.google.com/assets/colab-badge.svg\" alt=\"Open In Colab\"/></a>"
      ]
    },
    {
      "cell_type": "code",
      "source": [
        "#Fazendo upload das credenciais para poder usar a API do Kaggle.\n",
        "from google.colab import files\n",
        "files.upload()"
      ],
      "metadata": {
        "colab": {
          "resources": {
            "http://localhost:8080/nbextensions/google.colab/files.js": {
              "data": "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",
              "ok": true,
              "headers": [
                [
                  "content-type",
                  "application/javascript"
                ]
              ],
              "status": 200,
              "status_text": ""
            }
          },
          "base_uri": "https://localhost:8080/",
          "height": 90
        },
        "id": "r2eq-D_wcInB",
        "outputId": "73d89b1d-af86-46fe-a999-03caedcff6c3"
      },
      "execution_count": 1,
      "outputs": [
        {
          "output_type": "display_data",
          "data": {
            "text/plain": [
              "<IPython.core.display.HTML object>"
            ],
            "text/html": [
              "\n",
              "     <input type=\"file\" id=\"files-a3571207-849b-4ec2-ba5e-a984547ef1fb\" name=\"files[]\" multiple disabled\n",
              "        style=\"border:none\" />\n",
              "     <output id=\"result-a3571207-849b-4ec2-ba5e-a984547ef1fb\">\n",
              "      Upload widget is only available when the cell has been executed in the\n",
              "      current browser session. Please rerun this cell to enable.\n",
              "      </output>\n",
              "      <script src=\"/nbextensions/google.colab/files.js\"></script> "
            ]
          },
          "metadata": {}
        },
        {
          "output_type": "stream",
          "name": "stdout",
          "text": [
            "Saving kaggle.json to kaggle.json\n"
          ]
        },
        {
          "output_type": "execute_result",
          "data": {
            "text/plain": [
              "{'kaggle.json': b'{\"username\":\"guilhermeandradech\",\"key\":\"160910ef6e38456ce8ec0ecddc7d7fb4\"}'}"
            ]
          },
          "metadata": {},
          "execution_count": 1
        }
      ]
    },
    {
      "cell_type": "code",
      "source": [
        "#Instalando a boblioteca do kaggle\n",
        "!pip install kaggle --upgrade"
      ],
      "metadata": {
        "colab": {
          "base_uri": "https://localhost:8080/"
        },
        "id": "UbWe9iBhcUAa",
        "outputId": "8faf9e0c-a52d-47be-8663-7d4559afb960"
      },
      "execution_count": 2,
      "outputs": [
        {
          "output_type": "stream",
          "name": "stdout",
          "text": [
            "Looking in indexes: https://pypi.org/simple, https://us-python.pkg.dev/colab-wheels/public/simple/\n",
            "Requirement already satisfied: kaggle in /usr/local/lib/python3.7/dist-packages (1.5.12)\n",
            "Requirement already satisfied: certifi in /usr/local/lib/python3.7/dist-packages (from kaggle) (2022.6.15)\n",
            "Requirement already satisfied: six>=1.10 in /usr/local/lib/python3.7/dist-packages (from kaggle) (1.15.0)\n",
            "Requirement already satisfied: requests in /usr/local/lib/python3.7/dist-packages (from kaggle) (2.23.0)\n",
            "Requirement already satisfied: urllib3 in /usr/local/lib/python3.7/dist-packages (from kaggle) (1.24.3)\n",
            "Requirement already satisfied: python-slugify in /usr/local/lib/python3.7/dist-packages (from kaggle) (6.1.2)\n",
            "Requirement already satisfied: python-dateutil in /usr/local/lib/python3.7/dist-packages (from kaggle) (2.8.2)\n",
            "Requirement already satisfied: tqdm in /usr/local/lib/python3.7/dist-packages (from kaggle) (4.64.1)\n",
            "Requirement already satisfied: text-unidecode>=1.3 in /usr/local/lib/python3.7/dist-packages (from python-slugify->kaggle) (1.3)\n",
            "Requirement already satisfied: idna<3,>=2.5 in /usr/local/lib/python3.7/dist-packages (from requests->kaggle) (2.10)\n",
            "Requirement already satisfied: chardet<4,>=3.0.2 in /usr/local/lib/python3.7/dist-packages (from requests->kaggle) (3.0.4)\n"
          ]
        }
      ]
    },
    {
      "cell_type": "code",
      "source": [
        "#Criação do diretório e cópia do arquivo de autorização da API.E listando pasta oculta.\n",
        "!mkdir -p ~/.kaggle\n",
        "!cp kaggle.json ~/.kaggle/\n",
        "!ls ~/.kaggle"
      ],
      "metadata": {
        "colab": {
          "base_uri": "https://localhost:8080/"
        },
        "id": "nAbvd6UfcmQT",
        "outputId": "6ffde109-dc08-401b-fe4c-52e886755482"
      },
      "execution_count": 3,
      "outputs": [
        {
          "output_type": "stream",
          "name": "stdout",
          "text": [
            "kaggle.json\n"
          ]
        }
      ]
    },
    {
      "cell_type": "code",
      "source": [
        "#Fazendo downloado dos arquivos pela API\n",
        "!kaggle datasets download -d samuevan/reimbursemensts-deputies-brazil"
      ],
      "metadata": {
        "id": "WNR7tl-Kcuyi",
        "colab": {
          "base_uri": "https://localhost:8080/"
        },
        "outputId": "ee60810a-c7d5-43e3-939c-1c322056fd01"
      },
      "execution_count": 4,
      "outputs": [
        {
          "output_type": "stream",
          "name": "stdout",
          "text": [
            "Warning: Your Kaggle API key is readable by other users on this system! To fix this, you can run 'chmod 600 /root/.kaggle/kaggle.json'\n",
            "Downloading reimbursemensts-deputies-brazil.zip to /content\n",
            " 88% 115M/130M [00:01<00:00, 101MB/s]  \n",
            "100% 130M/130M [00:01<00:00, 91.8MB/s]\n"
          ]
        }
      ]
    },
    {
      "cell_type": "code",
      "source": [
        "#Importando pandas para ler os arquivos csv\n",
        "import pandas as pd"
      ],
      "metadata": {
        "id": "kOPNTjoKc57B"
      },
      "execution_count": 5,
      "outputs": []
    },
    {
      "cell_type": "code",
      "source": [
        "#Importando biblioteca para desconpactar arquivo zipado\n",
        "from zipfile import ZipFile"
      ],
      "metadata": {
        "id": "Vck0dLgNdz7q"
      },
      "execution_count": 6,
      "outputs": []
    },
    {
      "cell_type": "code",
      "source": [
        "#Nomeando uma variavel com os arquivos zipados\n",
        "z = ZipFile('/content/reimbursemensts-deputies-brazil.zip', 'r')"
      ],
      "metadata": {
        "id": "uU9PXUoZdHlU"
      },
      "execution_count": 7,
      "outputs": []
    },
    {
      "cell_type": "code",
      "source": [
        "#Extraindo os arquivos Zipados\n",
        "z.extractall()\n",
        "z.close()"
      ],
      "metadata": {
        "id": "SKY4BLTSeNbe"
      },
      "execution_count": 8,
      "outputs": []
    },
    {
      "cell_type": "code",
      "source": [
        "#Lendo o arquivo csv, nele o separador foi o ponto e virgula.\n",
        "dt = pd.read_csv('/content/reimbursements-2008.csv', on_bad_lines='skip')\n",
        "dt2 = pd.read_csv('/content/reimbursements-2009.csv', on_bad_lines='skip')\n",
        "dt3 = pd.read_csv('/content/reimbursements-2010.csv', on_bad_lines='skip')\n",
        "dt4 = pd.read_csv('/content/reimbursements-2011.csv', on_bad_lines='skip')\n",
        "dt5 = pd.read_csv('/content/reimbursements-2012.csv', on_bad_lines='skip')\n",
        "dt6 = pd.read_csv('/content/reimbursements-2013.csv', on_bad_lines='skip')\n",
        "dt7 = pd.read_csv('/content/reimbursements-2014.csv', on_bad_lines='skip')\n",
        "dt8 = pd.read_csv('/content/reimbursements-2015.csv', on_bad_lines='skip')\n",
        "dt9 = pd.read_csv('/content/reimbursements-2016.csv', on_bad_lines='skip')\n",
        "dt10 = pd.read_csv('/content/reimbursements-2017.csv', on_bad_lines='skip')\n",
        "dt11 = pd.read_csv('/content/reimbursements-2018.csv', on_bad_lines='skip')\n",
        "dt12 = pd.read_csv('/content/reimbursements-2019.csv', on_bad_lines='skip')\n",
        "dt13 = pd.read_csv('/content/reimbursements-2020.csv', on_bad_lines='skip')\n",
        "dt14 = pd.read_csv('/content/reimbursements-2021.csv', on_bad_lines='skip')"
      ],
      "metadata": {
        "colab": {
          "base_uri": "https://localhost:8080/"
        },
        "id": "uDsFQQ2_s1jk",
        "outputId": "876f13e5-b808-4171-b04d-878350848061"
      },
      "execution_count": 9,
      "outputs": [
        {
          "output_type": "stream",
          "name": "stderr",
          "text": [
            "/usr/local/lib/python3.7/dist-packages/IPython/core/interactiveshell.py:3326: DtypeWarning: Columns (10,22,23) have mixed types.Specify dtype option on import or set low_memory=False.\n",
            "  exec(code_obj, self.user_global_ns, self.user_ns)\n",
            "/usr/local/lib/python3.7/dist-packages/IPython/core/interactiveshell.py:3326: DtypeWarning: Columns (10) have mixed types.Specify dtype option on import or set low_memory=False.\n",
            "  exec(code_obj, self.user_global_ns, self.user_ns)\n",
            "/usr/local/lib/python3.7/dist-packages/IPython/core/interactiveshell.py:3326: DtypeWarning: Columns (10,23) have mixed types.Specify dtype option on import or set low_memory=False.\n",
            "  exec(code_obj, self.user_global_ns, self.user_ns)\n",
            "/usr/local/lib/python3.7/dist-packages/IPython/core/interactiveshell.py:3326: DtypeWarning: Columns (23) have mixed types.Specify dtype option on import or set low_memory=False.\n",
            "  exec(code_obj, self.user_global_ns, self.user_ns)\n"
          ]
        }
      ]
    },
    {
      "cell_type": "code",
      "source": [
        "# Concatenando toda tabelas\n",
        "nova = pd.concat([dt, dt2,dt3,dt4,dt5,dt6,dt7,dt8,dt9,dt10,dt11,dt12,dt13,dt14,])"
      ],
      "metadata": {
        "id": "x5Zte5M-tUhw"
      },
      "execution_count": 13,
      "outputs": []
    },
    {
      "cell_type": "code",
      "source": [
        "display(nova)"
      ],
      "metadata": {
        "colab": {
          "base_uri": "https://localhost:8080/",
          "height": 539
        },
        "id": "c5z7eYhztaMf",
        "outputId": "779d4584-bdcc-431e-e562-0ffeed2c005e"
      },
      "execution_count": 14,
      "outputs": [
        {
          "output_type": "display_data",
          "data": {
            "text/plain": [
              "            congressperson_name  congressperson_id  congressperson_document  \\\n",
              "0                  SILVIO COSTA             4930.0                    160.0   \n",
              "1                   ALDO REBELO            73428.0                    331.0   \n",
              "2      ANTONIO CARLOS PANNUNZIO            73431.0                    334.0   \n",
              "3      ANTONIO CARLOS PANNUNZIO            73431.0                    334.0   \n",
              "4           ARNALDO FARIA DE SÁ            73434.0                    337.0   \n",
              "...                         ...                ...                      ...   \n",
              "36069              Ricardo Izar           160655.0                    383.0   \n",
              "36070            Alice Portugal            74057.0                    180.0   \n",
              "36071            Alice Portugal            74057.0                    180.0   \n",
              "36072            Alice Portugal            74057.0                    180.0   \n",
              "36073            Alice Portugal            74057.0                    180.0   \n",
              "\n",
              "       term state  party  term_id  subquota_number  subquota_description  \\\n",
              "0      2007    PE    PTB       53               10     Telecommunication   \n",
              "1      2007    SP  PCdoB       53               10     Telecommunication   \n",
              "2      2007    SP   PSDB       53               10     Telecommunication   \n",
              "3      2007    SP   PSDB       53               10     Telecommunication   \n",
              "4      2007    SP    PTB       53               10     Telecommunication   \n",
              "...     ...   ...    ...      ...              ...                   ...   \n",
              "36069  2019    SP     PP       56               10     Telecommunication   \n",
              "36070  2019    BA  PCdoB       56                3  Fuels and lubricants   \n",
              "36071  2019    BA  PCdoB       56                3  Fuels and lubricants   \n",
              "36072  2019    BA  PCdoB       56                3  Fuels and lubricants   \n",
              "36073  2019    BA  PCdoB       56                3  Fuels and lubricants   \n",
              "\n",
              "       subquota_group_id  ... month  year  installment passenger  \\\n",
              "0                      0  ...    12  2008            0       NaN   \n",
              "1                      0  ...    12  2008            0       NaN   \n",
              "2                      0  ...     3  2008            0       NaN   \n",
              "3                      0  ...    12  2008            0       NaN   \n",
              "4                      0  ...    12  2008            0       NaN   \n",
              "...                  ...  ...   ...   ...          ...       ...   \n",
              "36069                  0  ...     4  2021            0       NaN   \n",
              "36070                  1  ...     4  2021            0       NaN   \n",
              "36071                  1  ...     4  2021            0       NaN   \n",
              "36072                  1  ...     4  2021            0       NaN   \n",
              "36073                  1  ...     4  2021            0       NaN   \n",
              "\n",
              "       leg_of_the_trip batch_number  numbers  total_value  applicant_id  \\\n",
              "0                  NaN            0    ['0']          NaN          1973   \n",
              "1                  NaN            0    ['0']          NaN           764   \n",
              "2                  NaN            0    ['0']          NaN           961   \n",
              "3                  NaN            0    ['0']          NaN           961   \n",
              "4                  NaN            0    ['0']          NaN           292   \n",
              "...                ...          ...      ...          ...           ...   \n",
              "36069              NaN      1760047    [nan]          0.0          2253   \n",
              "36070              NaN      1760143    [nan]          0.0          1531   \n",
              "36071              NaN      1760143    [nan]          0.0          1531   \n",
              "36072              NaN      1760143    [nan]          0.0          1531   \n",
              "36073              NaN      1760143    [nan]          0.0          1531   \n",
              "\n",
              "       document_id  \n",
              "0                0  \n",
              "1                0  \n",
              "2                0  \n",
              "3                0  \n",
              "4                0  \n",
              "...            ...  \n",
              "36069      7182859  \n",
              "36070      7183050  \n",
              "36071      7183054  \n",
              "36072      7183064  \n",
              "36073      7183067  \n",
              "\n",
              "[4016846 rows x 29 columns]"
            ],
            "text/html": [
              "\n",
              "  <div id=\"df-991471cd-4deb-45fd-8172-046603f43a65\">\n",
              "    <div class=\"colab-df-container\">\n",
              "      <div>\n",
              "<style scoped>\n",
              "    .dataframe tbody tr th:only-of-type {\n",
              "        vertical-align: middle;\n",
              "    }\n",
              "\n",
              "    .dataframe tbody tr th {\n",
              "        vertical-align: top;\n",
              "    }\n",
              "\n",
              "    .dataframe thead th {\n",
              "        text-align: right;\n",
              "    }\n",
              "</style>\n",
              "<table border=\"1\" class=\"dataframe\">\n",
              "  <thead>\n",
              "    <tr style=\"text-align: right;\">\n",
              "      <th></th>\n",
              "      <th>congressperson_name</th>\n",
              "      <th>congressperson_id</th>\n",
              "      <th>congressperson_document</th>\n",
              "      <th>term</th>\n",
              "      <th>state</th>\n",
              "      <th>party</th>\n",
              "      <th>term_id</th>\n",
              "      <th>subquota_number</th>\n",
              "      <th>subquota_description</th>\n",
              "      <th>subquota_group_id</th>\n",
              "      <th>...</th>\n",
              "      <th>month</th>\n",
              "      <th>year</th>\n",
              "      <th>installment</th>\n",
              "      <th>passenger</th>\n",
              "      <th>leg_of_the_trip</th>\n",
              "      <th>batch_number</th>\n",
              "      <th>numbers</th>\n",
              "      <th>total_value</th>\n",
              "      <th>applicant_id</th>\n",
              "      <th>document_id</th>\n",
              "    </tr>\n",
              "  </thead>\n",
              "  <tbody>\n",
              "    <tr>\n",
              "      <th>0</th>\n",
              "      <td>SILVIO COSTA</td>\n",
              "      <td>4930.0</td>\n",
              "      <td>160.0</td>\n",
              "      <td>2007</td>\n",
              "      <td>PE</td>\n",
              "      <td>PTB</td>\n",
              "      <td>53</td>\n",
              "      <td>10</td>\n",
              "      <td>Telecommunication</td>\n",
              "      <td>0</td>\n",
              "      <td>...</td>\n",
              "      <td>12</td>\n",
              "      <td>2008</td>\n",
              "      <td>0</td>\n",
              "      <td>NaN</td>\n",
              "      <td>NaN</td>\n",
              "      <td>0</td>\n",
              "      <td>['0']</td>\n",
              "      <td>NaN</td>\n",
              "      <td>1973</td>\n",
              "      <td>0</td>\n",
              "    </tr>\n",
              "    <tr>\n",
              "      <th>1</th>\n",
              "      <td>ALDO REBELO</td>\n",
              "      <td>73428.0</td>\n",
              "      <td>331.0</td>\n",
              "      <td>2007</td>\n",
              "      <td>SP</td>\n",
              "      <td>PCdoB</td>\n",
              "      <td>53</td>\n",
              "      <td>10</td>\n",
              "      <td>Telecommunication</td>\n",
              "      <td>0</td>\n",
              "      <td>...</td>\n",
              "      <td>12</td>\n",
              "      <td>2008</td>\n",
              "      <td>0</td>\n",
              "      <td>NaN</td>\n",
              "      <td>NaN</td>\n",
              "      <td>0</td>\n",
              "      <td>['0']</td>\n",
              "      <td>NaN</td>\n",
              "      <td>764</td>\n",
              "      <td>0</td>\n",
              "    </tr>\n",
              "    <tr>\n",
              "      <th>2</th>\n",
              "      <td>ANTONIO CARLOS PANNUNZIO</td>\n",
              "      <td>73431.0</td>\n",
              "      <td>334.0</td>\n",
              "      <td>2007</td>\n",
              "      <td>SP</td>\n",
              "      <td>PSDB</td>\n",
              "      <td>53</td>\n",
              "      <td>10</td>\n",
              "      <td>Telecommunication</td>\n",
              "      <td>0</td>\n",
              "      <td>...</td>\n",
              "      <td>3</td>\n",
              "      <td>2008</td>\n",
              "      <td>0</td>\n",
              "      <td>NaN</td>\n",
              "      <td>NaN</td>\n",
              "      <td>0</td>\n",
              "      <td>['0']</td>\n",
              "      <td>NaN</td>\n",
              "      <td>961</td>\n",
              "      <td>0</td>\n",
              "    </tr>\n",
              "    <tr>\n",
              "      <th>3</th>\n",
              "      <td>ANTONIO CARLOS PANNUNZIO</td>\n",
              "      <td>73431.0</td>\n",
              "      <td>334.0</td>\n",
              "      <td>2007</td>\n",
              "      <td>SP</td>\n",
              "      <td>PSDB</td>\n",
              "      <td>53</td>\n",
              "      <td>10</td>\n",
              "      <td>Telecommunication</td>\n",
              "      <td>0</td>\n",
              "      <td>...</td>\n",
              "      <td>12</td>\n",
              "      <td>2008</td>\n",
              "      <td>0</td>\n",
              "      <td>NaN</td>\n",
              "      <td>NaN</td>\n",
              "      <td>0</td>\n",
              "      <td>['0']</td>\n",
              "      <td>NaN</td>\n",
              "      <td>961</td>\n",
              "      <td>0</td>\n",
              "    </tr>\n",
              "    <tr>\n",
              "      <th>4</th>\n",
              "      <td>ARNALDO FARIA DE SÁ</td>\n",
              "      <td>73434.0</td>\n",
              "      <td>337.0</td>\n",
              "      <td>2007</td>\n",
              "      <td>SP</td>\n",
              "      <td>PTB</td>\n",
              "      <td>53</td>\n",
              "      <td>10</td>\n",
              "      <td>Telecommunication</td>\n",
              "      <td>0</td>\n",
              "      <td>...</td>\n",
              "      <td>12</td>\n",
              "      <td>2008</td>\n",
              "      <td>0</td>\n",
              "      <td>NaN</td>\n",
              "      <td>NaN</td>\n",
              "      <td>0</td>\n",
              "      <td>['0']</td>\n",
              "      <td>NaN</td>\n",
              "      <td>292</td>\n",
              "      <td>0</td>\n",
              "    </tr>\n",
              "    <tr>\n",
              "      <th>...</th>\n",
              "      <td>...</td>\n",
              "      <td>...</td>\n",
              "      <td>...</td>\n",
              "      <td>...</td>\n",
              "      <td>...</td>\n",
              "      <td>...</td>\n",
              "      <td>...</td>\n",
              "      <td>...</td>\n",
              "      <td>...</td>\n",
              "      <td>...</td>\n",
              "      <td>...</td>\n",
              "      <td>...</td>\n",
              "      <td>...</td>\n",
              "      <td>...</td>\n",
              "      <td>...</td>\n",
              "      <td>...</td>\n",
              "      <td>...</td>\n",
              "      <td>...</td>\n",
              "      <td>...</td>\n",
              "      <td>...</td>\n",
              "      <td>...</td>\n",
              "    </tr>\n",
              "    <tr>\n",
              "      <th>36069</th>\n",
              "      <td>Ricardo Izar</td>\n",
              "      <td>160655.0</td>\n",
              "      <td>383.0</td>\n",
              "      <td>2019</td>\n",
              "      <td>SP</td>\n",
              "      <td>PP</td>\n",
              "      <td>56</td>\n",
              "      <td>10</td>\n",
              "      <td>Telecommunication</td>\n",
              "      <td>0</td>\n",
              "      <td>...</td>\n",
              "      <td>4</td>\n",
              "      <td>2021</td>\n",
              "      <td>0</td>\n",
              "      <td>NaN</td>\n",
              "      <td>NaN</td>\n",
              "      <td>1760047</td>\n",
              "      <td>[nan]</td>\n",
              "      <td>0.0</td>\n",
              "      <td>2253</td>\n",
              "      <td>7182859</td>\n",
              "    </tr>\n",
              "    <tr>\n",
              "      <th>36070</th>\n",
              "      <td>Alice Portugal</td>\n",
              "      <td>74057.0</td>\n",
              "      <td>180.0</td>\n",
              "      <td>2019</td>\n",
              "      <td>BA</td>\n",
              "      <td>PCdoB</td>\n",
              "      <td>56</td>\n",
              "      <td>3</td>\n",
              "      <td>Fuels and lubricants</td>\n",
              "      <td>1</td>\n",
              "      <td>...</td>\n",
              "      <td>4</td>\n",
              "      <td>2021</td>\n",
              "      <td>0</td>\n",
              "      <td>NaN</td>\n",
              "      <td>NaN</td>\n",
              "      <td>1760143</td>\n",
              "      <td>[nan]</td>\n",
              "      <td>0.0</td>\n",
              "      <td>1531</td>\n",
              "      <td>7183050</td>\n",
              "    </tr>\n",
              "    <tr>\n",
              "      <th>36071</th>\n",
              "      <td>Alice Portugal</td>\n",
              "      <td>74057.0</td>\n",
              "      <td>180.0</td>\n",
              "      <td>2019</td>\n",
              "      <td>BA</td>\n",
              "      <td>PCdoB</td>\n",
              "      <td>56</td>\n",
              "      <td>3</td>\n",
              "      <td>Fuels and lubricants</td>\n",
              "      <td>1</td>\n",
              "      <td>...</td>\n",
              "      <td>4</td>\n",
              "      <td>2021</td>\n",
              "      <td>0</td>\n",
              "      <td>NaN</td>\n",
              "      <td>NaN</td>\n",
              "      <td>1760143</td>\n",
              "      <td>[nan]</td>\n",
              "      <td>0.0</td>\n",
              "      <td>1531</td>\n",
              "      <td>7183054</td>\n",
              "    </tr>\n",
              "    <tr>\n",
              "      <th>36072</th>\n",
              "      <td>Alice Portugal</td>\n",
              "      <td>74057.0</td>\n",
              "      <td>180.0</td>\n",
              "      <td>2019</td>\n",
              "      <td>BA</td>\n",
              "      <td>PCdoB</td>\n",
              "      <td>56</td>\n",
              "      <td>3</td>\n",
              "      <td>Fuels and lubricants</td>\n",
              "      <td>1</td>\n",
              "      <td>...</td>\n",
              "      <td>4</td>\n",
              "      <td>2021</td>\n",
              "      <td>0</td>\n",
              "      <td>NaN</td>\n",
              "      <td>NaN</td>\n",
              "      <td>1760143</td>\n",
              "      <td>[nan]</td>\n",
              "      <td>0.0</td>\n",
              "      <td>1531</td>\n",
              "      <td>7183064</td>\n",
              "    </tr>\n",
              "    <tr>\n",
              "      <th>36073</th>\n",
              "      <td>Alice Portugal</td>\n",
              "      <td>74057.0</td>\n",
              "      <td>180.0</td>\n",
              "      <td>2019</td>\n",
              "      <td>BA</td>\n",
              "      <td>PCdoB</td>\n",
              "      <td>56</td>\n",
              "      <td>3</td>\n",
              "      <td>Fuels and lubricants</td>\n",
              "      <td>1</td>\n",
              "      <td>...</td>\n",
              "      <td>4</td>\n",
              "      <td>2021</td>\n",
              "      <td>0</td>\n",
              "      <td>NaN</td>\n",
              "      <td>NaN</td>\n",
              "      <td>1760143</td>\n",
              "      <td>[nan]</td>\n",
              "      <td>0.0</td>\n",
              "      <td>1531</td>\n",
              "      <td>7183067</td>\n",
              "    </tr>\n",
              "  </tbody>\n",
              "</table>\n",
              "<p>4016846 rows × 29 columns</p>\n",
              "</div>\n",
              "      <button class=\"colab-df-convert\" onclick=\"convertToInteractive('df-991471cd-4deb-45fd-8172-046603f43a65')\"\n",
              "              title=\"Convert this dataframe to an interactive table.\"\n",
              "              style=\"display:none;\">\n",
              "        \n",
              "  <svg xmlns=\"http://www.w3.org/2000/svg\" height=\"24px\"viewBox=\"0 0 24 24\"\n",
              "       width=\"24px\">\n",
              "    <path d=\"M0 0h24v24H0V0z\" fill=\"none\"/>\n",
              "    <path d=\"M18.56 5.44l.94 2.06.94-2.06 2.06-.94-2.06-.94-.94-2.06-.94 2.06-2.06.94zm-11 1L8.5 8.5l.94-2.06 2.06-.94-2.06-.94L8.5 2.5l-.94 2.06-2.06.94zm10 10l.94 2.06.94-2.06 2.06-.94-2.06-.94-.94-2.06-.94 2.06-2.06.94z\"/><path d=\"M17.41 7.96l-1.37-1.37c-.4-.4-.92-.59-1.43-.59-.52 0-1.04.2-1.43.59L10.3 9.45l-7.72 7.72c-.78.78-.78 2.05 0 2.83L4 21.41c.39.39.9.59 1.41.59.51 0 1.02-.2 1.41-.59l7.78-7.78 2.81-2.81c.8-.78.8-2.07 0-2.86zM5.41 20L4 18.59l7.72-7.72 1.47 1.35L5.41 20z\"/>\n",
              "  </svg>\n",
              "      </button>\n",
              "      \n",
              "  <style>\n",
              "    .colab-df-container {\n",
              "      display:flex;\n",
              "      flex-wrap:wrap;\n",
              "      gap: 12px;\n",
              "    }\n",
              "\n",
              "    .colab-df-convert {\n",
              "      background-color: #E8F0FE;\n",
              "      border: none;\n",
              "      border-radius: 50%;\n",
              "      cursor: pointer;\n",
              "      display: none;\n",
              "      fill: #1967D2;\n",
              "      height: 32px;\n",
              "      padding: 0 0 0 0;\n",
              "      width: 32px;\n",
              "    }\n",
              "\n",
              "    .colab-df-convert:hover {\n",
              "      background-color: #E2EBFA;\n",
              "      box-shadow: 0px 1px 2px rgba(60, 64, 67, 0.3), 0px 1px 3px 1px rgba(60, 64, 67, 0.15);\n",
              "      fill: #174EA6;\n",
              "    }\n",
              "\n",
              "    [theme=dark] .colab-df-convert {\n",
              "      background-color: #3B4455;\n",
              "      fill: #D2E3FC;\n",
              "    }\n",
              "\n",
              "    [theme=dark] .colab-df-convert:hover {\n",
              "      background-color: #434B5C;\n",
              "      box-shadow: 0px 1px 3px 1px rgba(0, 0, 0, 0.15);\n",
              "      filter: drop-shadow(0px 1px 2px rgba(0, 0, 0, 0.3));\n",
              "      fill: #FFFFFF;\n",
              "    }\n",
              "  </style>\n",
              "\n",
              "      <script>\n",
              "        const buttonEl =\n",
              "          document.querySelector('#df-991471cd-4deb-45fd-8172-046603f43a65 button.colab-df-convert');\n",
              "        buttonEl.style.display =\n",
              "          google.colab.kernel.accessAllowed ? 'block' : 'none';\n",
              "\n",
              "        async function convertToInteractive(key) {\n",
              "          const element = document.querySelector('#df-991471cd-4deb-45fd-8172-046603f43a65');\n",
              "          const dataTable =\n",
              "            await google.colab.kernel.invokeFunction('convertToInteractive',\n",
              "                                                     [key], {});\n",
              "          if (!dataTable) return;\n",
              "\n",
              "          const docLinkHtml = 'Like what you see? Visit the ' +\n",
              "            '<a target=\"_blank\" href=https://colab.research.google.com/notebooks/data_table.ipynb>data table notebook</a>'\n",
              "            + ' to learn more about interactive tables.';\n",
              "          element.innerHTML = '';\n",
              "          dataTable['output_type'] = 'display_data';\n",
              "          await google.colab.output.renderOutput(dataTable, element);\n",
              "          const docLink = document.createElement('div');\n",
              "          docLink.innerHTML = docLinkHtml;\n",
              "          element.appendChild(docLink);\n",
              "        }\n",
              "      </script>\n",
              "    </div>\n",
              "  </div>\n",
              "  "
            ]
          },
          "metadata": {}
        }
      ]
    },
    {
      "cell_type": "code",
      "source": [
        "nova.info()"
      ],
      "metadata": {
        "colab": {
          "base_uri": "https://localhost:8080/"
        },
        "id": "6-q1krRYWIS-",
        "outputId": "0c32e15f-3a5f-41dc-a2a2-81ddbab957cf"
      },
      "execution_count": 18,
      "outputs": [
        {
          "output_type": "stream",
          "name": "stdout",
          "text": [
            "<class 'pandas.core.frame.DataFrame'>\n",
            "Int64Index: 4016846 entries, 0 to 36073\n",
            "Data columns (total 29 columns):\n",
            " #   Column                      Dtype  \n",
            "---  ------                      -----  \n",
            " 0   congressperson_name         object \n",
            " 1   congressperson_id           float64\n",
            " 2   congressperson_document     float64\n",
            " 3   term                        int64  \n",
            " 4   state                       object \n",
            " 5   party                       object \n",
            " 6   term_id                     int64  \n",
            " 7   subquota_number             int64  \n",
            " 8   subquota_description        object \n",
            " 9   subquota_group_id           int64  \n",
            " 10  subquota_group_description  object \n",
            " 11  supplier                    object \n",
            " 12  cnpj_cpf                    float64\n",
            " 13  document_number             object \n",
            " 14  document_type               int64  \n",
            " 15  issue_date                  object \n",
            " 16  document_value              float64\n",
            " 17  remark_value                float64\n",
            " 18  total_net_value             float64\n",
            " 19  month                       int64  \n",
            " 20  year                        int64  \n",
            " 21  installment                 int64  \n",
            " 22  passenger                   object \n",
            " 23  leg_of_the_trip             object \n",
            " 24  batch_number                int64  \n",
            " 25  numbers                     object \n",
            " 26  total_value                 float64\n",
            " 27  applicant_id                int64  \n",
            " 28  document_id                 int64  \n",
            "dtypes: float64(7), int64(11), object(11)\n",
            "memory usage: 919.4+ MB\n"
          ]
        }
      ]
    },
    {
      "cell_type": "code",
      "source": [
        "# Transformando em dataframe\n",
        "df = pd.DataFrame(nova)"
      ],
      "metadata": {
        "id": "ytblti36Vt7H"
      },
      "execution_count": 22,
      "outputs": []
    },
    {
      "cell_type": "code",
      "source": [
        "# Excluindo coluna\n",
        "df = df.drop('subquota_group_id', axis=1)"
      ],
      "metadata": {
        "id": "3ylGKyNbWx21"
      },
      "execution_count": 30,
      "outputs": []
    },
    {
      "cell_type": "code",
      "source": [
        "# Excluindo coluna\n",
        "df = df.drop('subquota_group_description', axis=1)"
      ],
      "metadata": {
        "id": "r79NTY5ZYZNY"
      },
      "execution_count": 37,
      "outputs": []
    },
    {
      "cell_type": "code",
      "source": [
        "# Verificando valores unicos\n",
        "df['document_value'].unique()"
      ],
      "metadata": {
        "colab": {
          "base_uri": "https://localhost:8080/"
        },
        "id": "CQUqTsA1YMrG",
        "outputId": "91cede33-ac40-44e7-e341-a0d993f27f3a"
      },
      "execution_count": 50,
      "outputs": [
        {
          "output_type": "execute_result",
          "data": {
            "text/plain": [
              "array([  80.01,  372.55,   38.48, ..., 3013.93, 3664.95, 2424.79])"
            ]
          },
          "metadata": {},
          "execution_count": 50
        }
      ]
    },
    {
      "cell_type": "code",
      "source": [
        "df.info()"
      ],
      "metadata": {
        "colab": {
          "base_uri": "https://localhost:8080/"
        },
        "id": "JQmYP3BSYHRU",
        "outputId": "942842af-4250-45f8-b454-d1a23e30acca"
      },
      "execution_count": 38,
      "outputs": [
        {
          "output_type": "stream",
          "name": "stdout",
          "text": [
            "<class 'pandas.core.frame.DataFrame'>\n",
            "Int64Index: 4016846 entries, 0 to 36073\n",
            "Data columns (total 27 columns):\n",
            " #   Column                   Dtype  \n",
            "---  ------                   -----  \n",
            " 0   congressperson_name      object \n",
            " 1   congressperson_id        float64\n",
            " 2   congressperson_document  float64\n",
            " 3   term                     int64  \n",
            " 4   state                    object \n",
            " 5   party                    object \n",
            " 6   term_id                  int64  \n",
            " 7   subquota_number          int64  \n",
            " 8   subquota_description     object \n",
            " 9   supplier                 object \n",
            " 10  cnpj_cpf                 float64\n",
            " 11  document_number          object \n",
            " 12  document_type            int64  \n",
            " 13  issue_date               object \n",
            " 14  document_value           float64\n",
            " 15  remark_value             float64\n",
            " 16  total_net_value          float64\n",
            " 17  month                    int64  \n",
            " 18  year                     int64  \n",
            " 19  installment              int64  \n",
            " 20  passenger                object \n",
            " 21  leg_of_the_trip          object \n",
            " 22  batch_number             int64  \n",
            " 23  numbers                  object \n",
            " 24  total_value              float64\n",
            " 25  applicant_id             int64  \n",
            " 26  document_id              int64  \n",
            "dtypes: float64(7), int64(10), object(10)\n",
            "memory usage: 890.3+ MB\n"
          ]
        }
      ]
    },
    {
      "cell_type": "code",
      "source": [
        "# Checando valores nulos\n",
        "df_check=df.isna()\n",
        "\n",
        "check_for_any_nan= df.isna().values.any()\n",
        "\n",
        "check_for_any_nan= df.isna().any().any()\n",
        "total_nan_values = df.isna().sum().sum()\n",
        "print(df_check)\n",
        "print(\"NaN Presence:\"+str(check_for_any_nan))\n",
        "print (\"Total Number of NaN values:\"+str(total_nan_values))"
      ],
      "metadata": {
        "colab": {
          "base_uri": "https://localhost:8080/"
        },
        "id": "-Jj4TK0TW3G1",
        "outputId": "f337574a-9da3-4b87-86f2-0182fa0349f8"
      },
      "execution_count": 47,
      "outputs": [
        {
          "output_type": "stream",
          "name": "stdout",
          "text": [
            "       congressperson_name  congressperson_id  congressperson_document   term  \\\n",
            "0                    False              False                    False  False   \n",
            "1                    False              False                    False  False   \n",
            "2                    False              False                    False  False   \n",
            "3                    False              False                    False  False   \n",
            "4                    False              False                    False  False   \n",
            "...                    ...                ...                      ...    ...   \n",
            "36069                False              False                    False  False   \n",
            "36070                False              False                    False  False   \n",
            "36071                False              False                    False  False   \n",
            "36072                False              False                    False  False   \n",
            "36073                False              False                    False  False   \n",
            "\n",
            "       state  party  term_id  subquota_number  subquota_description  supplier  \\\n",
            "0      False  False    False            False                 False     False   \n",
            "1      False  False    False            False                 False     False   \n",
            "2      False  False    False            False                 False     False   \n",
            "3      False  False    False            False                 False     False   \n",
            "4      False  False    False            False                 False     False   \n",
            "...      ...    ...      ...              ...                   ...       ...   \n",
            "36069  False  False    False            False                 False     False   \n",
            "36070  False  False    False            False                 False     False   \n",
            "36071  False  False    False            False                 False     False   \n",
            "36072  False  False    False            False                 False     False   \n",
            "36073  False  False    False            False                 False     False   \n",
            "\n",
            "       ...  month   year  installment  passenger  leg_of_the_trip  \\\n",
            "0      ...  False  False        False       True             True   \n",
            "1      ...  False  False        False       True             True   \n",
            "2      ...  False  False        False       True             True   \n",
            "3      ...  False  False        False       True             True   \n",
            "4      ...  False  False        False       True             True   \n",
            "...    ...    ...    ...          ...        ...              ...   \n",
            "36069  ...  False  False        False       True             True   \n",
            "36070  ...  False  False        False       True             True   \n",
            "36071  ...  False  False        False       True             True   \n",
            "36072  ...  False  False        False       True             True   \n",
            "36073  ...  False  False        False       True             True   \n",
            "\n",
            "       batch_number  numbers  total_value  applicant_id  document_id  \n",
            "0             False    False         True         False        False  \n",
            "1             False    False         True         False        False  \n",
            "2             False    False         True         False        False  \n",
            "3             False    False         True         False        False  \n",
            "4             False    False         True         False        False  \n",
            "...             ...      ...          ...           ...          ...  \n",
            "36069         False    False        False         False        False  \n",
            "36070         False    False        False         False        False  \n",
            "36071         False    False        False         False        False  \n",
            "36072         False    False        False         False        False  \n",
            "36073         False    False        False         False        False  \n",
            "\n",
            "[4016846 rows x 27 columns]\n",
            "NaN Presence:True\n",
            "Total Number of NaN values:7992436\n"
          ]
        }
      ]
    },
    {
      "cell_type": "code",
      "source": [
        "#Transformando em csv\n",
        "df.to_csv('all_reimbursements.csv')"
      ],
      "metadata": {
        "id": "OmSlYJn2vd22"
      },
      "execution_count": 49,
      "outputs": []
    },
    {
      "cell_type": "code",
      "source": [
        "#Verificando tamanho\n",
        "import os \n",
        "  \n",
        "sz = os.path.getsize(\"all_reimbursements.csv\") \n",
        "  \n",
        "print(sz) "
      ],
      "metadata": {
        "colab": {
          "base_uri": "https://localhost:8080/"
        },
        "id": "IsO7ahfV0LYz",
        "outputId": "1d164ca4-9c17-479b-e116-ac95b5f7eace"
      },
      "execution_count": 51,
      "outputs": [
        {
          "output_type": "stream",
          "name": "stdout",
          "text": [
            "834538906\n"
          ]
        }
      ]
    },
    {
      "cell_type": "code",
      "source": [
        "#Verificando correlações\n",
        "import seaborn as sns\n",
        "import matplotlib.pyplot as plt\n",
        "\n",
        "sns.pairplot(df)\n",
        "plt.show()"
      ],
      "metadata": {
        "id": "E4gkWebKbK-U"
      },
      "execution_count": null,
      "outputs": []
    },
    {
      "cell_type": "code",
      "source": [
        "sns.heatmap(df.corr() , cmap = 'Wistia' , annot = True)\n",
        "plt.show()"
      ],
      "metadata": {
        "id": "UEh5tFEvbyR9"
      },
      "execution_count": null,
      "outputs": []
    }
  ]
}